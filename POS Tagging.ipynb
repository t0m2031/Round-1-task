{
 "cells": [
  {
   "cell_type": "code",
   "execution_count": 61,
   "metadata": {},
   "outputs": [],
   "source": [
    "import nltk\n",
    "from nltk.corpus import state_union\n",
    "from nltk.tokenize import PunktSentenceTokenizer\n",
    "import csv\n"
   ]
  },
  {
   "cell_type": "code",
   "execution_count": 3,
   "metadata": {},
   "outputs": [
    {
     "name": "stderr",
     "output_type": "stream",
     "text": [
      "[nltk_data] Downloading package state_union to\n",
      "[nltk_data]     C:\\Users\\SSG\\AppData\\Roaming\\nltk_data...\n",
      "[nltk_data]   Unzipping corpora\\state_union.zip.\n"
     ]
    },
    {
     "data": {
      "text/plain": [
       "True"
      ]
     },
     "execution_count": 3,
     "metadata": {},
     "output_type": "execute_result"
    }
   ],
   "source": [
    "nltk.download('state_union')"
   ]
  },
  {
   "cell_type": "code",
   "execution_count": 151,
   "metadata": {},
   "outputs": [],
   "source": [
    "train_text = state_union.raw(\"2005-GWBush.txt\")\n",
    "temp_news_article = open(r\"C:\\Users\\SSG\\Desktop\\News.txt\",encoding='utf-8')\n",
    "news_article = temp_news_article.read()"
   ]
  },
  {
   "cell_type": "code",
   "execution_count": 106,
   "metadata": {},
   "outputs": [],
   "source": [
    "custom_sent_tokenizer = PunktSentenceTokenizer(train_text)\n"
   ]
  },
  {
   "cell_type": "code",
   "execution_count": 152,
   "metadata": {},
   "outputs": [],
   "source": [
    "tokenized = custom_sent_tokenizer.tokenize(news_article)\n"
   ]
  },
  {
   "cell_type": "code",
   "execution_count": 8,
   "metadata": {
    "scrolled": true
   },
   "outputs": [
    {
     "name": "stderr",
     "output_type": "stream",
     "text": [
      "[nltk_data] Downloading package averaged_perceptron_tagger to\n",
      "[nltk_data]     C:\\Users\\SSG\\AppData\\Roaming\\nltk_data...\n",
      "[nltk_data]   Unzipping taggers\\averaged_perceptron_tagger.zip.\n"
     ]
    },
    {
     "data": {
      "text/plain": [
       "True"
      ]
     },
     "execution_count": 8,
     "metadata": {},
     "output_type": "execute_result"
    }
   ],
   "source": [
    "nltk.download('averaged_perceptron_tagger')"
   ]
  },
  {
   "cell_type": "code",
   "execution_count": 153,
   "metadata": {},
   "outputs": [
    {
     "name": "stdout",
     "output_type": "stream",
     "text": [
      "[('Real', 'JJ'), ('Madrid', 'NNP'), ('president', 'NN'), ('Florentino', 'NNP'), ('Perez', 'NNP'), ('paid', 'VBD'), ('tribute', 'NN'), ('to', 'TO'), ('his', 'PRP$'), ('players', 'NNS'), ('and', 'CC'), ('coach', 'NN'), ('Zinedine', 'NNP'), ('Zidane', 'NNP'), ('after', 'IN'), ('they', 'PRP'), ('wrapped', 'VBD'), ('up', 'RP'), ('the', 'DT'), ('La', 'NNP'), ('Liga', 'NNP'), ('title', 'NN'), ('on', 'IN'), ('Thursday', 'NNP'), (',', ','), ('saying', 'VBG'), ('their', 'PRP$'), ('triumph', 'NN'), ('after', 'IN'), ('the', 'DT'), ('long', 'JJ'), ('pause', 'NN'), ('due', 'JJ'), ('to', 'TO'), ('the', 'DT'), ('COVID-19', 'NNP'), ('pandemic', 'NN'), ('would', 'MD'), ('forever', 'RB'), ('be', 'VB'), ('remembered', 'VBN'), ('.', '.')]\n",
      "[('Real', 'JJ'), ('trailed', 'VBN'), ('Barcelona', 'NNP'), ('by', 'IN'), ('two', 'CD'), ('points', 'NNS'), ('when', 'WRB'), ('the', 'DT'), ('season', 'NN'), ('was', 'VBD'), ('halted', 'VBN'), ('in', 'IN'), ('March', 'NNP'), ('but', 'CC'), ('they', 'PRP'), ('have', 'VBP'), ('been', 'VBN'), ('on', 'IN'), ('a', 'DT'), ('flawless', 'NN'), ('run', 'NN'), ('since', 'IN'), ('the', 'DT'), ('campaign', 'NN'), ('resumed', 'VBN'), ('in', 'IN'), ('June', 'NNP'), ('and', 'CC'), ('clinched', 'VBD'), ('the', 'DT'), ('title', 'NN'), ('with', 'IN'), ('a', 'DT'), ('2-1', 'JJ'), ('win', 'NN'), ('over', 'IN'), ('Villarreal', 'NNP'), ('.', '.')]\n",
      "[('“', 'NN'), ('We', 'PRP'), ('really', 'RB'), ('wanted', 'VBD'), ('to', 'TO'), ('win', 'VB'), ('this', 'DT'), ('league', 'NN'), ('title', 'NN'), ('and', 'CC'), ('that', 'DT'), ('is', 'VBZ'), ('what', 'WP'), ('we', 'PRP'), ('have', 'VBP'), ('done', 'VBN'), (',', ','), ('”', 'FW'), ('Perez', 'NNP'), ('told', 'VBD'), ('Spanish', 'JJ'), ('television', 'NN'), ('network', 'NN'), ('Movistar', 'NNP'), ('.', '.')]\n",
      "[('“', 'NN'), ('They', 'PRP'), ('have', 'VBP'), ('all', 'DT'), ('put', 'VBN'), ('in', 'IN'), ('enormous', 'JJ'), ('performances', 'NNS'), (',', ','), ('especially', 'RB'), ('Karim', 'NNP'), ('Benzema', 'NNP'), (',', ','), ('Thibaut', 'NNP'), ('Courtois', 'NNP'), ('and', 'CC'), ('Casemiro', 'NNP'), (',', ','), ('while', 'IN'), ('Sergio', 'NNP'), ('Ramos', 'NNP'), ('is', 'VBZ'), ('more', 'JJR'), ('than', 'IN'), ('a', 'DT'), ('captain', 'NN'), ('.', '.')]\n",
      "[('“', 'NN'), ('They', 'PRP'), ('have', 'VBP'), ('all', 'DT'), ('built', 'VBN'), ('a', 'DT'), ('brilliant', 'JJ'), ('team', 'NN'), ('spirit', 'NN'), ('while', 'IN'), ('Zidane', 'NNP'), ('is', 'VBZ'), ('the', 'DT'), ('architect', 'NN'), ('of', 'IN'), ('this', 'DT'), ('title', 'NN'), ('win', 'NN'), ('as', 'IN'), ('he', 'PRP'), ('has', 'VBZ'), ('put', 'VBN'), ('the', 'DT'), ('players', 'NNS'), ('to', 'TO'), ('work', 'VB'), ('.', '.')]\n",
      "[('We', 'PRP'), ('are', 'VBP'), ('so', 'RB'), ('pleased.', 'JJ'), ('”', 'NNP'), ('Perez', 'NNP'), ('added', 'VBD'), ('that', 'IN'), ('the', 'DT'), ('team', 'NN'), ('deserved', 'VBD'), ('particular', 'JJ'), ('credit', 'NN'), ('for', 'IN'), ('how', 'WRB'), ('they', 'PRP'), ('reacted', 'VBD'), ('to', 'TO'), ('the', 'DT'), ('season', 'NN'), ('being', 'VBG'), ('put', 'VBN'), ('on', 'IN'), ('hold', 'NN'), ('due', 'JJ'), ('to', 'TO'), ('the', 'DT'), ('spread', 'NN'), ('of', 'IN'), ('the', 'DT'), ('coronavirus', 'NN'), (',', ','), ('coming', 'VBG'), ('out', 'IN'), ('of', 'IN'), ('spending', 'VBG'), ('two', 'CD'), ('months', 'NNS'), ('in', 'IN'), ('their', 'PRP$'), ('homes', 'NNS'), ('to', 'TO'), ('win', 'VB'), ('all', 'DT'), ('10', 'CD'), ('matches', 'NNS'), ('since', 'IN'), ('returning', 'VBG'), ('to', 'TO'), ('action', 'NN'), ('.', '.')]\n",
      "[('“', 'IN'), ('The', 'DT'), ('lockdown', 'NN'), ('was', 'VBD'), ('important', 'JJ'), (',', ','), ('we', 'PRP'), ('trained', 'VBD'), ('hard', 'RB'), ('in', 'IN'), ('that', 'DT'), ('period', 'NN'), ('and', 'CC'), ('came', 'VBD'), ('back', 'RB'), ('with', 'IN'), ('so', 'RB'), ('much', 'JJ'), ('enthusiasm', 'NN'), ('to', 'TO'), ('win', 'VB'), ('this', 'DT'), ('title', 'NN'), (',', ','), ('”', 'CC'), ('he', 'PRP'), ('said.', 'VBZ'), ('“', 'CC'), ('Everyone', 'NNP'), ('could', 'MD'), ('see', 'VB'), ('how', 'WRB'), ('strong', 'JJ'), ('we', 'PRP'), ('have', 'VBP'), ('been', 'VBN'), ('.', '.')]\n",
      "[('What', 'WP'), ('this', 'DT'), ('team', 'NN'), ('has', 'VBZ'), ('done', 'VBN'), ('will', 'MD'), ('go', 'VB'), ('down', 'RP'), ('in', 'IN'), ('Real', 'JJ'), ('Madrid', 'NNP'), ('’', 'NNP'), ('s', 'VBD'), ('history.', 'JJ'), ('”', 'IN'), ('The', 'DT'), ('Blancos', 'NNP'), ('president', 'NN'), (',', ','), ('who', 'WP'), ('is', 'VBZ'), ('famed', 'VBN'), ('for', 'IN'), ('his', 'PRP$'), ('‘', 'NN'), ('Galacticos', 'NNP'), ('’', 'NNP'), ('approach', 'NN'), ('to', 'TO'), ('recruitment', 'VB'), (',', ','), ('says', 'VBZ'), ('there', 'EX'), ('will', 'MD'), ('be', 'VB'), ('no', 'DT'), ('elaborate', 'JJ'), ('outlay', 'NN'), ('at', 'IN'), ('the', 'DT'), ('Santiago', 'NNP'), ('Bernabeu', 'NNP'), ('Real', 'NNP'), ('Madrid', 'NNP'), ('president', 'NN'), ('Florentino', 'NNP'), ('Perez', 'NNP'), ('claims', 'VBZ'), ('there', 'EX'), ('will', 'MD'), ('be', 'VB'), ('no', 'DT'), ('big', 'JJ'), ('spending', 'NN'), ('by', 'IN'), ('the', 'DT'), ('newly-crowned', 'JJ'), ('La', 'NNP'), ('Liga', 'NNP'), ('champions', 'NNS'), ('in', 'IN'), ('the', 'DT'), ('next', 'JJ'), ('transfer', 'NN'), ('window', 'NN'), (',', ','), ('with', 'IN'), ('plans', 'NNS'), ('to', 'TO'), ('sign', 'VB'), ('“', 'PDT'), ('the', 'DT'), ('best', 'JJS'), ('”', 'NN'), ('put', 'VBD'), ('on', 'IN'), ('hold', 'NN'), ('.', '.')]\n",
      "[('The', 'DT'), ('Blancos', 'NNP'), ('have', 'VBP'), ('captured', 'VBN'), ('the', 'DT'), ('Spanish', 'JJ'), ('top-flight', 'JJ'), ('crown', 'NN'), ('in', 'IN'), ('2020', 'CD'), (',', ','), ('with', 'IN'), ('their', 'PRP$'), ('coronation', 'NN'), ('confirmed', 'VBN'), ('in', 'IN'), ('a', 'DT'), ('2-1', 'JJ'), ('victory', 'NN'), ('over', 'IN'), ('Villarreal', 'NNP'), ('.', '.')]\n",
      "[('Zinedine', 'NNP'), ('Zidane', 'NNP'), ('has', 'VBZ'), ('guided', 'VBN'), ('the', 'DT'), ('capital', 'NN'), ('giants', 'NNS'), ('back', 'RB'), ('to', 'TO'), ('the', 'DT'), ('summit', 'NN'), ('of', 'IN'), ('a', 'DT'), ('domestic', 'JJ'), ('game', 'NN'), (',', ','), ('having', 'VBG'), ('inherited', 'VBN'), ('a', 'DT'), ('squad', 'NN'), ('that', 'WDT'), ('was', 'VBD'), ('in', 'IN'), ('danger', 'NN'), ('of', 'IN'), ('losing', 'VBG'), ('its', 'PRP$'), ('way', 'NN'), ('when', 'WRB'), ('he', 'PRP'), ('was', 'VBD'), ('brought', 'VBN'), ('back', 'RP'), ('for', 'IN'), ('a', 'DT'), ('second', 'JJ'), ('spell', 'NN'), ('at', 'IN'), ('the', 'DT'), ('helm', 'NN'), ('in', 'IN'), ('March', 'NNP'), ('2019', 'CD'), ('.', '.')]\n"
     ]
    }
   ],
   "source": [
    "op_list=[]\n",
    "def process_content():\n",
    "    try:\n",
    "        for i in tokenized:\n",
    "            words = nltk.word_tokenize(i)\n",
    "            tagged = nltk.pos_tag(words)\n",
    "            print(tagged)\n",
    "    except Exception as e:\n",
    "        print(str(e))\n",
    "\n",
    "\n",
    "process_content()"
   ]
  },
  {
   "cell_type": "code",
   "execution_count": 165,
   "metadata": {},
   "outputs": [
    {
     "name": "stdout",
     "output_type": "stream",
     "text": [
      "{'Real': 3, 'and': 5, 'after': 2, 'the': 20, 'on': 4, 'long': 1, 'due': 2, 'by': 2, 'two': 2, 'in': 11, 'but': 1, 'a': 8, 'since': 2, 'with': 4, '2-1': 2, 'over': 2, 'this': 4, 'that': 3, '”': 3, 'Spanish': 2, 'all': 3, 'enormous': 1, 'while': 2, 'more': 1, 'than': 1, 'brilliant': 1, 'of': 5, 'as': 1, 'pleased.': 1, 'particular': 1, 'for': 3, 'out': 1, '10': 1, '“': 2, 'The': 3, 'important': 1, 'much': 1, 'strong': 1, 'history.': 1, 'there': 2, 'no': 2, 'elaborate': 1, 'at': 2, 'big': 1, 'newly-crowned': 1, 'next': 1, 'top-flight': 1, '2020': 1, 'domestic': 1, 'second': 1, '2019': 1}\n",
      "\n",
      "{'Real': 'JJ', 'and': 'CC', 'after': 'IN', 'the': 'DT', 'on': 'IN', 'long': 'JJ', 'due': 'JJ', 'by': 'IN', 'two': 'CD', 'in': 'IN', 'but': 'CC', 'a': 'DT', 'since': 'IN', 'with': 'IN', '2-1': 'JJ', 'over': 'IN', 'this': 'DT', 'that': 'DT', '”': 'IN', 'Spanish': 'JJ', 'all': 'DT', 'enormous': 'JJ', 'while': 'IN', 'more': 'JJR', 'than': 'IN', 'brilliant': 'JJ', 'of': 'IN', 'as': 'IN', 'pleased.': 'JJ', 'particular': 'JJ', 'for': 'IN', 'out': 'IN', '10': 'CD', '“': 'CC', 'The': 'DT', 'important': 'JJ', 'much': 'JJ', 'strong': 'JJ', 'history.': 'JJ', 'there': 'EX', 'no': 'DT', 'elaborate': 'JJ', 'at': 'IN', 'big': 'JJ', 'newly-crowned': 'JJ', 'next': 'JJ', 'top-flight': 'JJ', '2020': 'CD', 'domestic': 'JJ', 'second': 'JJ', '2019': 'CD'}\n",
      "              POS Type  Frequency\n",
      "Real                JJ          3\n",
      "and                 CC          5\n",
      "after               IN          2\n",
      "the                 DT         20\n",
      "on                  IN          4\n",
      "long                JJ          1\n",
      "due                 JJ          2\n",
      "by                  IN          2\n",
      "two                 CD          2\n",
      "in                  IN         11\n",
      "but                 CC          1\n",
      "a                   DT          8\n",
      "since               IN          2\n",
      "with                IN          4\n",
      "2-1                 JJ          2\n",
      "over                IN          2\n",
      "this                DT          4\n",
      "that                DT          3\n",
      "”                   IN          3\n",
      "Spanish             JJ          2\n",
      "all                 DT          3\n",
      "enormous            JJ          1\n",
      "while               IN          2\n",
      "more               JJR          1\n",
      "than                IN          1\n",
      "brilliant           JJ          1\n",
      "of                  IN          5\n",
      "as                  IN          1\n",
      "pleased.            JJ          1\n",
      "particular          JJ          1\n",
      "for                 IN          3\n",
      "out                 IN          1\n",
      "10                  CD          1\n",
      "“                   CC          2\n",
      "The                 DT          3\n",
      "important           JJ          1\n",
      "much                JJ          1\n",
      "strong              JJ          1\n",
      "history.            JJ          1\n",
      "there               EX          2\n",
      "no                  DT          2\n",
      "elaborate           JJ          1\n",
      "at                  IN          2\n",
      "big                 JJ          1\n",
      "newly-crowned       JJ          1\n",
      "next                JJ          1\n",
      "top-flight          JJ          1\n",
      "2020                CD          1\n",
      "domestic            JJ          1\n",
      "second              JJ          1\n",
      "2019                CD          1\n"
     ]
    }
   ],
   "source": [
    "import numpy as np\n",
    "from pandas import DataFrame \n",
    "\n",
    "def process_content():\n",
    "    tagged = []\n",
    "    type_list=['CC','CD','DT','EX','FW','IN','JJ','JJR']\n",
    "    name = {}\n",
    "    freq = []\n",
    "    ffreq={}\n",
    "    types=[]\n",
    "    cnt=[]\n",
    "    try:\n",
    "        j=0\n",
    "        for i in tokenized:\n",
    "            words = nltk.word_tokenize(i)\n",
    "            tagged.append(nltk.pos_tag(words))\n",
    "            \n",
    "        x= np.asarray(tagged)\n",
    "        #pd_x = pd.DataFrame(x)\n",
    "        #print(x)\n",
    "        for y in x:\n",
    "            for z in y:\n",
    "                if z[1] in type_list:\n",
    "                    name[z[0]] = z[1]\n",
    "                    freq.append(z[0])\n",
    "        for ele in freq:\n",
    "            ffreq[ele] = freq.count(ele)\n",
    "        print(ffreq)    \n",
    "        print()\n",
    "        print(name)\n",
    "        \n",
    "        df = DataFrame({'name':pd.Series(name),'ffreq':pd.Series(ffreq)})\n",
    "        \n",
    "        #df = DataFrame(list(name.items()),columns = ['Entity','POS Type'])\n",
    "        \n",
    "        df.columns = [ 'POS Type' , 'Frequency']\n",
    "        print(df)\n",
    "        \n",
    "        \n",
    "        \n",
    "    except Exception as e:\n",
    "        print(str(e))\n",
    "\n",
    "        \n",
    "\n",
    "process_content()"
   ]
  }
 ],
 "metadata": {
  "kernelspec": {
   "display_name": "Python 3",
   "language": "python",
   "name": "python3"
  },
  "language_info": {
   "codemirror_mode": {
    "name": "ipython",
    "version": 3
   },
   "file_extension": ".py",
   "mimetype": "text/x-python",
   "name": "python",
   "nbconvert_exporter": "python",
   "pygments_lexer": "ipython3",
   "version": "3.6.10"
  }
 },
 "nbformat": 4,
 "nbformat_minor": 4
}
